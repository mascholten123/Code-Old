{
 "cells": [
  {
   "cell_type": "code",
   "execution_count": 2,
   "metadata": {},
   "outputs": [],
   "source": [
    "# imports \n",
    "import matplotlib\n",
    "import matplotlib.pyplot as plt\n",
    "import numpy as np\n",
    "import pandas as pd\n",
    "import seaborn as sns\n",
    "import datetime\n",
    "import pathlib\n",
    "from datetime import datetime\n",
    "from dataclasses import dataclass\n",
    "import math\n",
    "import pyfao56 as fao \n"
   ]
  },
  {
   "cell_type": "code",
   "execution_count": 1,
   "metadata": {},
   "outputs": [
    {
     "name": "stdout",
     "output_type": "stream",
     "text": [
      "Collecting pyfao56\n",
      "  Downloading pyfao56-1.2.1-py3-none-any.whl.metadata (20 kB)\n",
      "Requirement already satisfied: matplotlib in /usr/local/lib/python3.11/site-packages (from pyfao56) (3.8.0)\n",
      "Requirement already satisfied: pandas in /usr/local/lib/python3.11/site-packages (from pyfao56) (2.1.2)\n",
      "Requirement already satisfied: numpy in /usr/local/lib/python3.11/site-packages (from pyfao56) (1.26.1)\n",
      "Requirement already satisfied: requests in /usr/local/lib/python3.11/site-packages (from pyfao56) (2.31.0)\n",
      "Requirement already satisfied: urllib3 in /usr/local/lib/python3.11/site-packages (from pyfao56) (2.2.1)\n",
      "Requirement already satisfied: contourpy>=1.0.1 in /usr/local/lib/python3.11/site-packages (from matplotlib->pyfao56) (1.1.1)\n",
      "Requirement already satisfied: cycler>=0.10 in /usr/local/lib/python3.11/site-packages (from matplotlib->pyfao56) (0.12.1)\n",
      "Requirement already satisfied: fonttools>=4.22.0 in /usr/local/lib/python3.11/site-packages (from matplotlib->pyfao56) (4.43.1)\n",
      "Requirement already satisfied: kiwisolver>=1.0.1 in /usr/local/lib/python3.11/site-packages (from matplotlib->pyfao56) (1.4.5)\n",
      "Requirement already satisfied: packaging>=20.0 in /Users/mirabellescholten/Library/Python/3.11/lib/python/site-packages (from matplotlib->pyfao56) (23.1)\n",
      "Requirement already satisfied: pillow>=6.2.0 in /usr/local/lib/python3.11/site-packages (from matplotlib->pyfao56) (10.1.0)\n",
      "Requirement already satisfied: pyparsing>=2.3.1 in /usr/local/lib/python3.11/site-packages (from matplotlib->pyfao56) (3.1.1)\n",
      "Requirement already satisfied: python-dateutil>=2.7 in /Users/mirabellescholten/Library/Python/3.11/lib/python/site-packages (from matplotlib->pyfao56) (2.8.2)\n",
      "Requirement already satisfied: pytz>=2020.1 in /usr/local/lib/python3.11/site-packages (from pandas->pyfao56) (2023.3.post1)\n",
      "Requirement already satisfied: tzdata>=2022.1 in /usr/local/lib/python3.11/site-packages (from pandas->pyfao56) (2023.3)\n",
      "Requirement already satisfied: charset-normalizer<4,>=2 in /usr/local/lib/python3.11/site-packages (from requests->pyfao56) (3.3.2)\n",
      "Requirement already satisfied: idna<4,>=2.5 in /usr/local/lib/python3.11/site-packages (from requests->pyfao56) (3.6)\n",
      "Requirement already satisfied: certifi>=2017.4.17 in /usr/local/lib/python3.11/site-packages (from requests->pyfao56) (2024.2.2)\n",
      "Requirement already satisfied: six>=1.5 in /Users/mirabellescholten/Library/Python/3.11/lib/python/site-packages (from python-dateutil>=2.7->matplotlib->pyfao56) (1.16.0)\n",
      "Downloading pyfao56-1.2.1-py3-none-any.whl (48 kB)\n",
      "\u001b[2K   \u001b[90m━━━━━━━━━━━━━━━━━━━━━━━━━━━━━━━━━━━━━━━━\u001b[0m \u001b[32m48.8/48.8 kB\u001b[0m \u001b[31m805.6 kB/s\u001b[0m eta \u001b[36m0:00:00\u001b[0m\u001b[36m0:00:01\u001b[0m\n",
      "\u001b[?25hInstalling collected packages: pyfao56\n",
      "Successfully installed pyfao56-1.2.1\n",
      "Note: you may need to restart the kernel to use updated packages.\n"
     ]
    }
   ],
   "source": []
  }
 ],
 "metadata": {
  "kernelspec": {
   "display_name": "Python 3",
   "language": "python",
   "name": "python3"
  },
  "language_info": {
   "codemirror_mode": {
    "name": "ipython",
    "version": 3
   },
   "file_extension": ".py",
   "mimetype": "text/x-python",
   "name": "python",
   "nbconvert_exporter": "python",
   "pygments_lexer": "ipython3",
   "version": "3.11.5"
  }
 },
 "nbformat": 4,
 "nbformat_minor": 2
}
