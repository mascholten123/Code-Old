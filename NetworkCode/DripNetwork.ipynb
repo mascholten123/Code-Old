{
 "cells": [
  {
   "cell_type": "markdown",
   "metadata": {},
   "source": [
    "#### Irrigation system Model \n"
   ]
  },
  {
   "cell_type": "code",
   "execution_count": 8,
   "metadata": {},
   "outputs": [],
   "source": [
    "# imports \n",
    "import matplotlib\n",
    "import matplotlib.pyplot as plt\n",
    "import numpy as np\n",
    "import pandas as pd\n",
    "import seaborn as sns\n",
    "import datetime\n",
    "import pathlib\n",
    "from datetime import datetime\n",
    "from dataclasses import dataclass\n",
    "import math\n"
   ]
  },
  {
   "cell_type": "code",
   "execution_count": 16,
   "metadata": {},
   "outputs": [],
   "source": [
    "def reynolds_pipe(density, velocity, diameter, viscosity):\n",
    "    \"\"\"Calculate the Reynolds number for a given pipe flow.\n",
    "        density:density of the fluid in [kg/m3]\n",
    "        velocity:the mean velocity of the fluid in [m/s]\n",
    "        viscosity:dynamic viscosity of the fluid in [Pa*s]\n",
    "        diameter:inside diameter of the pipe in [m]\n",
    "    \"\"\"\n",
    "    return density * velocity * diameter / viscosity\n",
    "\n",
    "\n",
    "def friction_factor(Re, e, D):\n",
    "    \"\"\" Calculate the friction for the Darcy-weisback formula\n",
    "        Re: reynolds number \n",
    "        e: roughness factor \n",
    "        D: inner diameter of the pip\n",
    "    \"\"\"  \n",
    "    \n",
    "    if Re < 2000:   #Laminar flow\n",
    "        f = 64/Re \n",
    "    if Re > 4000:   #Turbulent flow \n",
    "        f = 0.25/ (math.log10((e)/(3.7*D)+5.74/(Re**0.9)))**2\n",
    "    else:  #Dunlop(1991) cubic interpolation formula for moody diagram\n",
    "        R = Re/2000\n",
    "        AB = 0.00328895476345399058690\n",
    "        AA = -1.5634601348517065795\n",
    "        Y2 = (e/(3.7*D)) + AB\n",
    "        Y3 = -2 * math.log(Y2)\n",
    "        FA = (Y3)**(-2)\n",
    "        FB = FA * (2 - (AA * AB)/(Y2* Y3))\n",
    "        X1 = 7* FA - FB\n",
    "        X2 = 0.128 -17*FA +2.5*FB\n",
    "        X3 = -0.128 + 13*FA -2*FB\n",
    "        X4 = 0.032 - 3*FA +0.5*FB\n",
    "        f = X1 + R*(X2 + R*(X3+R*X4)) \n",
    "    return f \n",
    "\n",
    "def pipe_head_losses(Q,D,L, e, rho = 1000, viscosity=10**(-3), g = 9.81):\n",
    "    '''calculate the head losses of a pipe section\n",
    "        Q: flow rate through pipe section \n",
    "        D: diameter of pipe section \n",
    "        e: rougness of pipesection \n",
    "        L:length of pipe section\n",
    "        rho: density of fluid[kg/m3] --> default water \n",
    "        viscosity: viscosity of fluid [Pa.s] --> default water \n",
    "        g :gravitational acceleration [m/s2]\n",
    "    '''\n",
    "    v = Q / (math.pi * (D/2)**2)\n",
    "    Re = reynolds_pipe(rho,v,D,viscosity)\n",
    "    f = friction_factor(Re,e,D)\n",
    "    return (f * L * v**2)/ (2*D*g) #Darcy-weisbach \n",
    "\n",
    "def minor_head_losses(k, Q, D, g = 9.81):\n",
    "    '''calculate the head losses of each network component\n",
    "        k: loss coeffient \n",
    "        Q: flow rate through minor loss section  \n",
    "        D: diameter of pipe section \n",
    "        g :gravitational acceleration [m/s2]\n",
    "    '''\n",
    "    v = Q / (math.pi * (D/2)**2)\n",
    "    return  k * (v**2)/ (2*g)\n"
   ]
  },
  {
   "cell_type": "code",
   "execution_count": 61,
   "metadata": {},
   "outputs": [],
   "source": [
    "def network_head_losses(L_main, L_submain, L_lateral, n_lateral, n_plants_per_lateral, Q_total, n_emitters_per_plant =1):\n",
    "    ''' Function that calculates the head loss of a drip irrigation network given the following inputs:\n",
    "        L_main: the length of the main pipe (m)\n",
    "        L_submain: the length of the submain pipe (m)  \n",
    "        L_lateral: the length of each of the lateral pipes (m)\n",
    "        n_lateral: the number of lateral pipes in the network --> should be even number \n",
    "        n_emitters_per_plant: number of drip emitters per plant, default = 1\n",
    "        n_plants_per_lateral: number of plants per lateral, assumed to be evenly spaced \n",
    "        Q_total: total flow rate [m3/s]    \n",
    "    '''\n",
    "    \n",
    "    #water constants\n",
    "    rho = 1000 #density of water[kg/m3]\n",
    "    viscosity = 1.002**(-3) #dynamic viscosity of water [m3.s]\n",
    "    g = 9.81 #gravitational acceleration [m/s2]\n",
    "\n",
    "    #network components \n",
    "    n_tees = n_lateral-1 #number of t-joints in the network\n",
    "    n_elbows = 2 #1 elbow connecting each of the end laterals \n",
    "    n_valve = 1 # at begining of network \n",
    "    n_emiiters_per_lateral = n_emitters_per_plant * n_plants_per_lateral\n",
    "    D_main = 0.0442 #Inner diameter of main [m] --> sourced from Jordan example of (Development of a system model for low-cost, SOLAR-POWERED DRIP IRRIGATION SYSTEMS IN THE MENA REGION )\n",
    "    D_submain = 0.0175#Inner diameter of submain [m]\n",
    "    D_lateral = 0.0175 #Inner diameter of lateral [m]\n",
    "    D_emitter = 0.0175 #diater of the emitter (1<D_later/D_emitter<1.2)\n",
    "    Q_rated  = 0.002 #the rated flow rate of the drip irrigatiate [m3/h] --> sharu et al. (2020)\n",
    "    \n",
    "\n",
    "    #Q_total threshold test \n",
    "    Q_max = (Q_rated * n_emitters_per_plant * n_plants_per_lateral * n_lateral) / 3600\n",
    "    if Q_total > Q_max:\n",
    "        raise Exception(f\"Sorry, the inputed flow rate is too large for the irrigation netork, Q_max = {Q_max}, Q_total = {Q_total} \")\n",
    "    \n",
    "    #Minor loss coeficients --> sourced from ...  \n",
    "    k_tee_straight = 0.2 #use inlet velocity \n",
    "    k_tee_bend = 1\n",
    "    k_elbow = 0.3\n",
    "    k_valve = 10 #assumed to be a globe valve \n",
    "    k_contraction = 0.5 #assumed worsed case scenerio of maximum sudden contraction, use velocity of outgoing flow\n",
    "    K_emitter = 0.116 * ((D_lateral/D_emitter)**13.87 -1) #emitter local loss coefficient from Provenzano et al. (2005)/ sharu et al. (2020)\n",
    "\n",
    "    H_minor = 0 #Intitiate as 0  \n",
    "\n",
    "    # mannings rougness coeficient  --> sourced from Demir et al (2009), assuming Polyethlene pipe \n",
    "    e_main = 0.005 * 10**(-3) #m\n",
    "    e_submain = 0.005 * 10**(-3) #m\n",
    "    e_lateral = 0.005 * 10**(-3) #m \n",
    "\n",
    "    #Losses in main \n",
    "    H_main = pipe_head_losses(Q_total,D_main,L_main, e_main)\n",
    "    H_minor += minor_head_losses(k_valve, Q_total, D_main) # valve\n",
    "    H_minor += 0.0120 * Q_total**1.5621 #AY40 filter from Demir et al. (2008) --> largest possible flow ranges \n",
    "    H_minor += 2*minor_head_losses(k_tee_bend, Q_total/2, D_main) # 2 branch tee flows to the submain\n",
    "    H_minor += 2*minor_head_losses(k_contraction, Q_total/2, D_submain) #contraction from main to submain at outlet of tee (both sides) \n",
    "\n",
    "    #Losses in submain \n",
    "    submain_parts = int(n_lateral/2) #each side, so actually 2 times this value\n",
    "    L_submain_parts = L_submain/(submain_parts*2 +1)\n",
    "    H_submain = 0 #intiate as 0 \n",
    "    for i in range(submain_parts):\n",
    "        Q_part = ((Q_total/2)/(submain_parts)) * (submain_parts-i) #flow rate through each section \n",
    "        H_submain += 2*pipe_head_losses(Q_part,D_submain,L_submain_parts, e_submain) \n",
    "        H_minor += 2* minor_head_losses(k_contraction, Q_part, D_lateral) #Contraction to each lateral diameter \n",
    "        if i < len(range(submain_parts)) -1: \n",
    "            H_minor += 2* minor_head_losses(k_tee_straight, Q_part, D_submain) #straight through tee \n",
    "            H_minor += 2* minor_head_losses(k_tee_bend, Q_part, D_submain) #through the bend of the tee\n",
    "        else: # for last lateral (end)\n",
    "            H_minor += 2* minor_head_losses(k_elbow, Q_part, D_submain) #elbow\n",
    "\n",
    "    #Losses in laterals \n",
    "    lateral_parts = n_emiiters_per_lateral #number of equal length segments between each emitter\n",
    "    L_lateral_parts = L_lateral/ lateral_parts\n",
    "    Q_emitter_avg = Q_total/(n_emitters_per_plant * n_plants_per_lateral * n_lateral)\n",
    "    H_lateral = 0 #intiate as 0\n",
    "    H_minor_emitter = 0\n",
    "    for i in range(lateral_parts):\n",
    "        Q_part_lateral = (Q_total/n_lateral) - (Q_emitter_avg) * i #flow rate through each section \n",
    "        H_lateral += n_lateral*pipe_head_losses(Q_part_lateral,D_lateral,L_lateral_parts, e_lateral)  \n",
    "        H_minor += n_lateral * minor_head_losses(K_emitter,Q_emitter_avg,D_emitter)\n",
    "    \n",
    "\n",
    "    \n",
    "    return H_minor + H_main + H_submain + H_lateral #total dynamic head losses \n",
    "    \n",
    "\n",
    "    \n"
   ]
  },
  {
   "cell_type": "code",
   "execution_count": 66,
   "metadata": {},
   "outputs": [
    {
     "data": {
      "text/plain": [
       "Text(0, 0.5, 'H [m]')"
      ]
     },
     "execution_count": 66,
     "metadata": {},
     "output_type": "execute_result"
    },
    {
     "data": {
      "image/png": "[encoded data removed]",
      "text/plain": [
       "<Figure size 640x480 with 1 Axes>"
      ]
     },
     "metadata": {},
     "output_type": "display_data"
    }
   ],
   "source": [
    "#Dynamic  head \n",
    "H =[] # list to store head losses \n",
    "Q_test = np.arange(0.00001, 0.00021 + 0.00001, 0.00001).tolist() \n",
    "\n",
    "for Q in Q_test:\n",
    "    H.append(network_head_losses(90.5, 45, 31, 4, 100, Q))\n",
    "\n",
    "Q_test = [i * 60 * 1000 for i in Q_test] #m3/h\n",
    "\n",
    "plt.plot(Q_test, H)\n",
    "plt.xlabel('Q [L/min]')\n",
    "plt.ylabel('H [m]')\n",
    "\n",
    "#Results appear to align with sharu et al. (2020)"
   ]
  },
  {
   "cell_type": "code",
   "execution_count": 67,
   "metadata": {},
   "outputs": [
    {
     "data": {
      "text/plain": [
       "Text(0, 0.5, 'H [m]')"
      ]
     },
     "execution_count": 67,
     "metadata": {},
     "output_type": "execute_result"
    },
    {
     "data": {
      "image/png": "[encoded data removed]",
      "text/plain": [
       "<Figure size 640x480 with 1 Axes>"
      ]
     },
     "metadata": {},
     "output_type": "display_data"
    }
   ],
   "source": [
    "#w/ static head \n",
    "\n",
    "H_static = 40 #m \n",
    "H_total = [i+H_static for i in H] #add static head to dynamic \n",
    "H_total.insert(0,H_static) #add static head to 0 postion of H_total list \n",
    "Q_test.insert(0,0) #add 0 flow rate to list in first positon \n",
    "\n",
    "plt.plot(Q_test, H_total )\n",
    "plt.xlabel('Q [L/min]')\n",
    "plt.ylabel('H [m]')\n"
   ]
  },
  {
   "cell_type": "code",
   "execution_count": 55,
   "metadata": {},
   "outputs": [
    {
     "data": {
      "text/plain": [
       "0.0"
      ]
     },
     "execution_count": 55,
     "metadata": {},
     "output_type": "execute_result"
    }
   ],
   "source": [
    "\n"
   ]
  }
 ],
 "metadata": {
  "kernelspec": {
   "display_name": "Python 3",
   "language": "python",
   "name": "python3"
  },
  "language_info": {
   "codemirror_mode": {
    "name": "ipython",
    "version": 3
   },
   "file_extension": ".py",
   "mimetype": "text/x-python",
   "name": "python",
   "nbconvert_exporter": "python",
   "pygments_lexer": "ipython3",
   "version": "3.11.5"
  }
 },
 "nbformat": 4,
 "nbformat_minor": 2
}
